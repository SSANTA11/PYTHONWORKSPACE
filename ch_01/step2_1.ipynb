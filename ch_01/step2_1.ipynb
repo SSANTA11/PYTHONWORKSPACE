{
 "cells": [
  {
   "cell_type": "code",
   "execution_count": null,
   "metadata": {},
   "outputs": [],
   "source": [
    "from pathlib import Path\n",
    "WORK_DIR=Path(__file__).parent\n",
    "OUT_DIR=WORK_DIR/\"output\"\n",
    "if __name__==\"__main__\":\n",
    "    OUT_DIR.mkdir(exist_ok=True)"
   ]
  }
 ],
 "metadata": {
  "language_info": {
   "codemirror_mode": {
    "name": "ipython",
    "version": 3
   },
   "file_extension": ".py",
   "mimetype": "text/x-python",
   "name": "python",
   "nbconvert_exporter": "python",
   "pygments_lexer": "ipython3",
   "version": 3
  }
 },
 "nbformat": 4,
 "nbformat_minor": 2
}
